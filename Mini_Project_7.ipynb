{
  "nbformat": 4,
  "nbformat_minor": 0,
  "metadata": {
    "colab": {
      "provenance": [],
      "authorship_tag": "ABX9TyM4JKv9LjqdDowNUaQuwgS6",
      "include_colab_link": true
    },
    "kernelspec": {
      "name": "python3",
      "display_name": "Python 3"
    },
    "language_info": {
      "name": "python"
    }
  },
  "cells": [
    {
      "cell_type": "markdown",
      "metadata": {
        "id": "view-in-github",
        "colab_type": "text"
      },
      "source": [
        "<a href=\"https://colab.research.google.com/github/gurpinder7473/Marks-Adding-/blob/main/Mini_Project_7.ipynb\" target=\"_parent\"><img src=\"https://colab.research.google.com/assets/colab-badge.svg\" alt=\"Open In Colab\"/></a>"
      ]
    },
    {
      "cell_type": "code",
      "execution_count": null,
      "metadata": {
        "colab": {
          "base_uri": "https://localhost:8080/"
        },
        "id": "7COx9mVp3Fh7",
        "outputId": "c383c738-f96f-423f-99ff-9491ee6c4e52"
      },
      "outputs": [
        {
          "output_type": "execute_result",
          "data": {
            "text/plain": [
              "1749924096.1397243"
            ]
          },
          "metadata": {},
          "execution_count": 1
        }
      ],
      "source": [
        "import time as t\n",
        "t.time()\n"
      ]
    },
    {
      "cell_type": "code",
      "source": [
        "import time as t\n",
        "print(t.time())\n",
        "t.sleep(5)\n",
        "print(t.time())"
      ],
      "metadata": {
        "colab": {
          "base_uri": "https://localhost:8080/"
        },
        "id": "KgUNdXL63Wbf",
        "outputId": "2339630f-e725-484b-ec1d-3e69686ceb6e"
      },
      "execution_count": null,
      "outputs": [
        {
          "output_type": "stream",
          "name": "stdout",
          "text": [
            "1749924096.1577606\n",
            "1749924101.1602478\n"
          ]
        }
      ]
    },
    {
      "cell_type": "code",
      "source": [
        "import time as t\n",
        "t1=t.time()\n",
        "print(t1)\n",
        "\n",
        "t.sleep(5)\n",
        "\n",
        "t2=t.time()\n",
        "print(t2)\n",
        "\n",
        "print(\"Total Time taken=\",t2-t1)"
      ],
      "metadata": {
        "colab": {
          "base_uri": "https://localhost:8080/"
        },
        "id": "iXDVhG2l3nmn",
        "outputId": "fdcea538-4dff-4e4a-9bdb-d67b4d014ced"
      },
      "execution_count": null,
      "outputs": [
        {
          "output_type": "stream",
          "name": "stdout",
          "text": [
            "1749924101.166393\n",
            "1749924106.1672666\n",
            "Total Time taken= 5.000873565673828\n"
          ]
        }
      ]
    },
    {
      "cell_type": "code",
      "source": [
        "import time as t\n",
        "t1=t.time()\n",
        "print(t1)\n",
        "\n",
        "for j in range(9999):\n",
        "  x=[1 for i in range(9999)]\n",
        "\n",
        "t2=t.time()\n",
        "print(t2)\n",
        "\n",
        "print(\"Total Time taken=\",t2-t1)"
      ],
      "metadata": {
        "colab": {
          "base_uri": "https://localhost:8080/"
        },
        "id": "Ox4aQPxi4CiF",
        "outputId": "cff0e5d5-cc4a-4c9b-bd68-59e99d8ea4e2"
      },
      "execution_count": null,
      "outputs": [
        {
          "output_type": "stream",
          "name": "stdout",
          "text": [
            "1749924106.1738634\n",
            "1749924108.5573657\n",
            "Total Time taken= 2.383502244949341\n"
          ]
        }
      ]
    }
  ]
}